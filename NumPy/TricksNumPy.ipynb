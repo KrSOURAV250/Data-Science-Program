{
  "cells": [
    {
      "cell_type": "markdown",
      "metadata": {
        "id": "39-UcmoPggtI"
      },
      "source": [
        "### np.sort\n",
        "\n",
        "Return a sorted copy of an array.\n",
        "\n",
        "https://numpy.org/doc/stable/reference/generated/numpy.sort.html"
      ]
    },
    {
      "cell_type": "code",
      "execution_count": 61,
      "metadata": {
        "colab": {
          "base_uri": "https://localhost:8080/"
        },
        "id": "vJUzuaz7gqTr",
        "outputId": "d1039d20-cd2b-41be-ce98-ff9cbc111e50"
      },
      "outputs": [
        {
          "data": {
            "text/plain": [
              "array([36, 15, 11, 83, 45, 63, 47, 90, 62, 84, 48, 52, 83, 54,  5])"
            ]
          },
          "execution_count": 61,
          "metadata": {},
          "output_type": "execute_result"
        }
      ],
      "source": [
        "# code\n",
        "import numpy as np\n",
        "a = np.random.randint(1,100,15)\n",
        "a"
      ]
    },
    {
      "cell_type": "code",
      "execution_count": 62,
      "metadata": {
        "colab": {
          "base_uri": "https://localhost:8080/"
        },
        "id": "Dfer5zY9-HaK",
        "outputId": "1f5c0130-f8de-4b33-e5a8-63631b23fd7b"
      },
      "outputs": [
        {
          "data": {
            "text/plain": [
              "array([[62, 27, 57, 76],\n",
              "       [48, 31, 74, 72],\n",
              "       [36, 54, 76, 90],\n",
              "       [33, 55, 78, 37],\n",
              "       [44, 98, 30, 68],\n",
              "       [48, 62, 78, 17]])"
            ]
          },
          "execution_count": 62,
          "metadata": {},
          "output_type": "execute_result"
        }
      ],
      "source": [
        "b = np.random.randint(1,100,24).reshape(6,4)\n",
        "b"
      ]
    },
    {
      "cell_type": "code",
      "execution_count": 63,
      "metadata": {
        "colab": {
          "base_uri": "https://localhost:8080/"
        },
        "id": "dyjeU-C6KznM",
        "outputId": "da3b404c-b198-4e62-b744-69f63cdea54a"
      },
      "outputs": [
        {
          "data": {
            "text/plain": [
              "array([90, 84, 83, 83, 63, 62, 54, 52, 48, 47, 45, 36, 15, 11,  5])"
            ]
          },
          "execution_count": 63,
          "metadata": {},
          "output_type": "execute_result"
        }
      ],
      "source": [
        "np.sort(a)[::-1]"
      ]
    },
    {
      "cell_type": "code",
      "execution_count": 64,
      "metadata": {
        "colab": {
          "base_uri": "https://localhost:8080/"
        },
        "id": "9fAdd5BWLHsq",
        "outputId": "a37305ea-18d5-4659-9a7a-a252ccc825c3"
      },
      "outputs": [
        {
          "data": {
            "text/plain": [
              "array([[33, 27, 30, 17],\n",
              "       [36, 31, 57, 37],\n",
              "       [44, 54, 74, 68],\n",
              "       [48, 55, 76, 72],\n",
              "       [48, 62, 78, 76],\n",
              "       [62, 98, 78, 90]])"
            ]
          },
          "execution_count": 64,
          "metadata": {},
          "output_type": "execute_result"
        }
      ],
      "source": [
        "np.sort(b,axis=0)"
      ]
    },
    {
      "cell_type": "markdown",
      "metadata": {
        "id": "W8tttorjgrVf"
      },
      "source": [
        "### np.append\n",
        "\n",
        "The numpy.append() appends values along the mentioned axis at the end of the array\n",
        "\n",
        "https://numpy.org/doc/stable/reference/generated/numpy.append.html"
      ]
    },
    {
      "cell_type": "code",
      "execution_count": 65,
      "metadata": {
        "colab": {
          "base_uri": "https://localhost:8080/"
        },
        "id": "Y3fHkR1gfd1X",
        "outputId": "621892ba-8b7e-4150-b56d-623aac9574cd"
      },
      "outputs": [
        {
          "data": {
            "text/plain": [
              "array([ 36,  15,  11,  83,  45,  63,  47,  90,  62,  84,  48,  52,  83,\n",
              "        54,   5, 200])"
            ]
          },
          "execution_count": 65,
          "metadata": {},
          "output_type": "execute_result"
        }
      ],
      "source": [
        "# code\n",
        "np.append(a,200)"
      ]
    },
    {
      "cell_type": "code",
      "execution_count": 66,
      "metadata": {
        "colab": {
          "base_uri": "https://localhost:8080/"
        },
        "id": "vmPc3zS3L2LL",
        "outputId": "7e90ac52-ae30-4325-b3b7-d526a9cdb4d3"
      },
      "outputs": [
        {
          "data": {
            "text/plain": [
              "array([[62, 27, 57, 76],\n",
              "       [48, 31, 74, 72],\n",
              "       [36, 54, 76, 90],\n",
              "       [33, 55, 78, 37],\n",
              "       [44, 98, 30, 68],\n",
              "       [48, 62, 78, 17]])"
            ]
          },
          "execution_count": 66,
          "metadata": {},
          "output_type": "execute_result"
        }
      ],
      "source": [
        "b"
      ]
    },
    {
      "cell_type": "code",
      "execution_count": 67,
      "metadata": {
        "colab": {
          "base_uri": "https://localhost:8080/"
        },
        "id": "LsIvCKQ5L-DB",
        "outputId": "79a6a4f6-b7e1-44ae-8add-d94305396e0f"
      },
      "outputs": [
        {
          "data": {
            "text/plain": [
              "array([[6.20000000e+01, 2.70000000e+01, 5.70000000e+01, 7.60000000e+01,\n",
              "        6.43953509e-01],\n",
              "       [4.80000000e+01, 3.10000000e+01, 7.40000000e+01, 7.20000000e+01,\n",
              "        8.32901166e-01],\n",
              "       [3.60000000e+01, 5.40000000e+01, 7.60000000e+01, 9.00000000e+01,\n",
              "        1.00509851e-02],\n",
              "       [3.30000000e+01, 5.50000000e+01, 7.80000000e+01, 3.70000000e+01,\n",
              "        3.45565538e-01],\n",
              "       [4.40000000e+01, 9.80000000e+01, 3.00000000e+01, 6.80000000e+01,\n",
              "        4.52412978e-01],\n",
              "       [4.80000000e+01, 6.20000000e+01, 7.80000000e+01, 1.70000000e+01,\n",
              "        1.74424965e-01]])"
            ]
          },
          "execution_count": 67,
          "metadata": {},
          "output_type": "execute_result"
        }
      ],
      "source": [
        "np.append(b,np.random.random((b.shape[0],1)),axis=1)"
      ]
    },
    {
      "cell_type": "markdown",
      "metadata": {
        "id": "meIMn8T9g5-m"
      },
      "source": [
        "### np.concatenate\n",
        "\n",
        "numpy.concatenate() function concatenate a sequence of arrays along an existing axis.\n",
        "\n",
        "https://numpy.org/doc/stable/reference/generated/numpy.concatenate.html"
      ]
    },
    {
      "cell_type": "code",
      "execution_count": 68,
      "metadata": {
        "colab": {
          "base_uri": "https://localhost:8080/"
        },
        "id": "Nrj1_QXfWZlV",
        "outputId": "5c60e20d-f4a2-40b8-e7ce-f0a5019225c8"
      },
      "outputs": [
        {
          "name": "stdout",
          "output_type": "stream",
          "text": [
            "[[0 1 2]\n",
            " [3 4 5]]\n",
            "[[ 6  7  8]\n",
            " [ 9 10 11]]\n"
          ]
        }
      ],
      "source": [
        "# code\n",
        "c = np.arange(6).reshape(2,3)\n",
        "d = np.arange(6,12).reshape(2,3)\n",
        "\n",
        "print(c)\n",
        "print(d)"
      ]
    },
    {
      "cell_type": "code",
      "execution_count": 69,
      "metadata": {
        "colab": {
          "base_uri": "https://localhost:8080/"
        },
        "id": "fDHBrV7VA4yz",
        "outputId": "832c4406-2b60-4e17-faa0-5008e109eb95"
      },
      "outputs": [
        {
          "data": {
            "text/plain": [
              "array([[ 0,  1,  2],\n",
              "       [ 3,  4,  5],\n",
              "       [ 6,  7,  8],\n",
              "       [ 9, 10, 11]])"
            ]
          },
          "execution_count": 69,
          "metadata": {},
          "output_type": "execute_result"
        }
      ],
      "source": [
        "np.concatenate((c,d),axis=0)"
      ]
    },
    {
      "cell_type": "code",
      "execution_count": 70,
      "metadata": {
        "colab": {
          "base_uri": "https://localhost:8080/"
        },
        "id": "GN9DnJ65Mr_b",
        "outputId": "6710e353-cd19-4376-8bd8-a38b7dbadc5a"
      },
      "outputs": [
        {
          "data": {
            "text/plain": [
              "array([[ 0,  1,  2,  6,  7,  8],\n",
              "       [ 3,  4,  5,  9, 10, 11]])"
            ]
          },
          "execution_count": 70,
          "metadata": {},
          "output_type": "execute_result"
        }
      ],
      "source": [
        "np.concatenate((c,d),axis=1)"
      ]
    },
    {
      "cell_type": "markdown",
      "metadata": {
        "id": "oHGFqHcohFtB"
      },
      "source": [
        "### np.unique\n",
        "\n",
        "With the help of np.unique() method, we can get the unique values from an array given as parameter in np.unique() method.\n",
        "\n",
        "https://numpy.org/doc/stable/reference/generated/numpy.unique.html/"
      ]
    },
    {
      "cell_type": "code",
      "execution_count": 71,
      "metadata": {
        "id": "NvG0KHpNWdN_"
      },
      "outputs": [],
      "source": [
        "# code\n",
        "e = np.array([1,1,2,2,3,3,4,4,5,5,6,6])"
      ]
    },
    {
      "cell_type": "code",
      "execution_count": 72,
      "metadata": {
        "colab": {
          "base_uri": "https://localhost:8080/"
        },
        "id": "XWr932XeCFz1",
        "outputId": "022a4f28-38ae-4041-caea-d1f8f394b58c"
      },
      "outputs": [
        {
          "data": {
            "text/plain": [
              "array([1, 2, 3, 4, 5, 6])"
            ]
          },
          "execution_count": 72,
          "metadata": {},
          "output_type": "execute_result"
        }
      ],
      "source": [
        "np.unique(e)"
      ]
    },
    {
      "cell_type": "markdown",
      "metadata": {
        "id": "Wki2yOXaEZV3"
      },
      "source": [
        "### np.expand_dims\n",
        "\n",
        "With the help of Numpy.expand_dims() method, we can get the expanded dimensions of an array\n",
        "\n",
        "https://numpy.org/doc/stable/reference/generated/numpy.expand_dims.html"
      ]
    },
    {
      "cell_type": "code",
      "execution_count": 73,
      "metadata": {
        "colab": {
          "base_uri": "https://localhost:8080/"
        },
        "id": "Pyvf-oZ0XTvr",
        "outputId": "3d75c6c4-8019-4d36-d29a-ebf0a213f3ef"
      },
      "outputs": [
        {
          "data": {
            "text/plain": [
              "(15,)"
            ]
          },
          "execution_count": 73,
          "metadata": {},
          "output_type": "execute_result"
        }
      ],
      "source": [
        "# code\n",
        "a.shape"
      ]
    },
    {
      "cell_type": "code",
      "execution_count": 74,
      "metadata": {
        "colab": {
          "base_uri": "https://localhost:8080/"
        },
        "id": "B-Pk9HNzNdrb",
        "outputId": "b7cd6597-410a-4016-ba3b-f5103d608db8"
      },
      "outputs": [
        {
          "data": {
            "text/plain": [
              "(1, 15)"
            ]
          },
          "execution_count": 74,
          "metadata": {},
          "output_type": "execute_result"
        }
      ],
      "source": [
        "np.expand_dims(a,axis=0).shape"
      ]
    },
    {
      "cell_type": "code",
      "execution_count": 75,
      "metadata": {
        "colab": {
          "base_uri": "https://localhost:8080/"
        },
        "id": "5d0Ahp8QNsKO",
        "outputId": "14587e87-7f0f-4b9c-8df8-dd5500f21878"
      },
      "outputs": [
        {
          "data": {
            "text/plain": [
              "array([[36],\n",
              "       [15],\n",
              "       [11],\n",
              "       [83],\n",
              "       [45],\n",
              "       [63],\n",
              "       [47],\n",
              "       [90],\n",
              "       [62],\n",
              "       [84],\n",
              "       [48],\n",
              "       [52],\n",
              "       [83],\n",
              "       [54],\n",
              "       [ 5]])"
            ]
          },
          "execution_count": 75,
          "metadata": {},
          "output_type": "execute_result"
        }
      ],
      "source": [
        "np.expand_dims(a,axis=1)"
      ]
    },
    {
      "cell_type": "markdown",
      "metadata": {
        "id": "_HmpYNTFERjS"
      },
      "source": [
        "### np.where\n",
        "\n",
        "The numpy.where() function returns the indices of elements in an input array where the given condition is satisfied.\n",
        "\n",
        "https://numpy.org/doc/stable/reference/generated/numpy.where.html"
      ]
    },
    {
      "cell_type": "code",
      "execution_count": 76,
      "metadata": {
        "colab": {
          "base_uri": "https://localhost:8080/"
        },
        "id": "H8k_ZDXjEo5W",
        "outputId": "688a96ee-b66c-48b7-8778-b502d489c82b"
      },
      "outputs": [
        {
          "data": {
            "text/plain": [
              "array([36, 15, 11, 83, 45, 63, 47, 90, 62, 84, 48, 52, 83, 54,  5])"
            ]
          },
          "execution_count": 76,
          "metadata": {},
          "output_type": "execute_result"
        }
      ],
      "source": [
        "a"
      ]
    },
    {
      "cell_type": "code",
      "execution_count": 77,
      "metadata": {
        "colab": {
          "base_uri": "https://localhost:8080/"
        },
        "id": "n9mkvdFdHGLY",
        "outputId": "f39b8dd3-bbe4-4dc6-941d-03add9d30b08"
      },
      "outputs": [
        {
          "data": {
            "text/plain": [
              "(array([ 3,  5,  7,  8,  9, 11, 12, 13], dtype=int64),)"
            ]
          },
          "execution_count": 77,
          "metadata": {},
          "output_type": "execute_result"
        }
      ],
      "source": [
        "# find all indices with value greater than 50\n",
        "np.where(a>50)"
      ]
    },
    {
      "cell_type": "code",
      "execution_count": 78,
      "metadata": {
        "colab": {
          "base_uri": "https://localhost:8080/"
        },
        "id": "zJAUufBOHcu1",
        "outputId": "dcd75885-d287-41f3-f5cd-5025518d0024"
      },
      "outputs": [
        {
          "data": {
            "text/plain": [
              "array([36, 15, 11,  0, 45,  0, 47,  0,  0,  0, 48,  0,  0,  0,  5])"
            ]
          },
          "execution_count": 78,
          "metadata": {},
          "output_type": "execute_result"
        }
      ],
      "source": [
        "# replace all values > 50 with 0\n",
        "np.where(a>50,0,a)"
      ]
    },
    {
      "cell_type": "code",
      "execution_count": 79,
      "metadata": {
        "colab": {
          "base_uri": "https://localhost:8080/"
        },
        "id": "Ygx7fC0BPP9e",
        "outputId": "45b4df8d-de53-4f5d-8917-969ba8895b88"
      },
      "outputs": [
        {
          "data": {
            "text/plain": [
              "array([ 0, 15, 11, 83, 45, 63, 47,  0,  0,  0,  0,  0, 83,  0,  5])"
            ]
          },
          "execution_count": 79,
          "metadata": {},
          "output_type": "execute_result"
        }
      ],
      "source": [
        "np.where(a%2 == 0,0,a)"
      ]
    },
    {
      "cell_type": "markdown",
      "metadata": {
        "id": "jsGIGNtCIS5-"
      },
      "source": [
        "### np.argmax\n",
        "\n",
        "The numpy.argmax() function returns indices of the max element of the array in a particular axis.\n",
        "\n",
        "https://numpy.org/doc/stable/reference/generated/numpy.argmax.html"
      ]
    },
    {
      "cell_type": "code",
      "execution_count": 80,
      "metadata": {
        "colab": {
          "base_uri": "https://localhost:8080/"
        },
        "id": "8YlXmMuaIRpj",
        "outputId": "448f7ecd-0282-41c4-d319-690f6219562b"
      },
      "outputs": [
        {
          "data": {
            "text/plain": [
              "array([36, 15, 11, 83, 45, 63, 47, 90, 62, 84, 48, 52, 83, 54,  5])"
            ]
          },
          "execution_count": 80,
          "metadata": {},
          "output_type": "execute_result"
        }
      ],
      "source": [
        "# code\n",
        "a"
      ]
    },
    {
      "cell_type": "code",
      "execution_count": 81,
      "metadata": {
        "colab": {
          "base_uri": "https://localhost:8080/"
        },
        "id": "gdrU6cQ9Pn_A",
        "outputId": "f1f091e9-aabb-4ce5-e0e7-3b2fe3062426"
      },
      "outputs": [
        {
          "data": {
            "text/plain": [
              "7"
            ]
          },
          "execution_count": 81,
          "metadata": {},
          "output_type": "execute_result"
        }
      ],
      "source": [
        "np.argmax(a)"
      ]
    },
    {
      "cell_type": "code",
      "execution_count": 82,
      "metadata": {
        "colab": {
          "base_uri": "https://localhost:8080/"
        },
        "id": "CohggNGrP5am",
        "outputId": "596701c9-6de8-4c0c-c749-b43b4f34babe"
      },
      "outputs": [
        {
          "data": {
            "text/plain": [
              "array([[62, 27, 57, 76],\n",
              "       [48, 31, 74, 72],\n",
              "       [36, 54, 76, 90],\n",
              "       [33, 55, 78, 37],\n",
              "       [44, 98, 30, 68],\n",
              "       [48, 62, 78, 17]])"
            ]
          },
          "execution_count": 82,
          "metadata": {},
          "output_type": "execute_result"
        }
      ],
      "source": [
        "b"
      ]
    },
    {
      "cell_type": "code",
      "execution_count": 83,
      "metadata": {
        "colab": {
          "base_uri": "https://localhost:8080/"
        },
        "id": "435CD24aIpNA",
        "outputId": "d084240d-6966-4a42-9d98-2d285e69dc3a"
      },
      "outputs": [
        {
          "data": {
            "text/plain": [
              "array([0, 4, 3, 2], dtype=int64)"
            ]
          },
          "execution_count": 83,
          "metadata": {},
          "output_type": "execute_result"
        }
      ],
      "source": [
        "np.argmax(b,axis=0)"
      ]
    },
    {
      "cell_type": "code",
      "execution_count": 84,
      "metadata": {
        "colab": {
          "base_uri": "https://localhost:8080/"
        },
        "id": "PBuZH3mbQE1U",
        "outputId": "1f76fb63-e7d8-4593-de4c-1282c2ca8c9c"
      },
      "outputs": [
        {
          "data": {
            "text/plain": [
              "array([3, 2, 3, 2, 1, 2], dtype=int64)"
            ]
          },
          "execution_count": 84,
          "metadata": {},
          "output_type": "execute_result"
        }
      ],
      "source": [
        "np.argmax(b,axis=1)"
      ]
    },
    {
      "cell_type": "code",
      "execution_count": 85,
      "metadata": {
        "colab": {
          "base_uri": "https://localhost:8080/"
        },
        "id": "T9TrLGNBWjV1",
        "outputId": "fa3cbdae-82e3-4c10-fa10-4dfb654b3263"
      },
      "outputs": [
        {
          "data": {
            "text/plain": [
              "14"
            ]
          },
          "execution_count": 85,
          "metadata": {},
          "output_type": "execute_result"
        }
      ],
      "source": [
        "# np.argmin\n",
        "np.argmin(a)"
      ]
    },
    {
      "cell_type": "markdown",
      "metadata": {
        "id": "1OdKi27pa091"
      },
      "source": [
        "### np.cumsum\n",
        "\n",
        "numpy.cumsum() function is used when we want to compute the cumulative sum of array elements over a given axis.\n",
        "\n",
        "https://numpy.org/doc/stable/reference/generated/numpy.cumsum.html"
      ]
    },
    {
      "cell_type": "code",
      "execution_count": 86,
      "metadata": {
        "colab": {
          "base_uri": "https://localhost:8080/"
        },
        "id": "VZmQUWH9bDk_",
        "outputId": "5555c8b5-2b7a-494b-c118-ad97bc253e3c"
      },
      "outputs": [
        {
          "data": {
            "text/plain": [
              "array([36, 15, 11, 83, 45, 63, 47, 90, 62, 84, 48, 52, 83, 54,  5])"
            ]
          },
          "execution_count": 86,
          "metadata": {},
          "output_type": "execute_result"
        }
      ],
      "source": [
        "a"
      ]
    },
    {
      "cell_type": "code",
      "execution_count": 87,
      "metadata": {
        "colab": {
          "base_uri": "https://localhost:8080/"
        },
        "id": "O0npD0R_RF-A",
        "outputId": "6bdbba06-e6f5-4ff0-8a7c-12c6ccd82f8b"
      },
      "outputs": [
        {
          "data": {
            "text/plain": [
              "array([ 36,  51,  62, 145, 190, 253, 300, 390, 452, 536, 584, 636, 719,\n",
              "       773, 778])"
            ]
          },
          "execution_count": 87,
          "metadata": {},
          "output_type": "execute_result"
        }
      ],
      "source": [
        "np.cumsum(a)"
      ]
    },
    {
      "cell_type": "code",
      "execution_count": 88,
      "metadata": {
        "colab": {
          "base_uri": "https://localhost:8080/"
        },
        "id": "Ypr5nUGxRJuO",
        "outputId": "c5daf9f8-4115-442b-d7e5-3c2c7fbe6ff9"
      },
      "outputs": [
        {
          "data": {
            "text/plain": [
              "array([[62, 27, 57, 76],\n",
              "       [48, 31, 74, 72],\n",
              "       [36, 54, 76, 90],\n",
              "       [33, 55, 78, 37],\n",
              "       [44, 98, 30, 68],\n",
              "       [48, 62, 78, 17]])"
            ]
          },
          "execution_count": 88,
          "metadata": {},
          "output_type": "execute_result"
        }
      ],
      "source": [
        "b"
      ]
    },
    {
      "cell_type": "code",
      "execution_count": 89,
      "metadata": {
        "colab": {
          "base_uri": "https://localhost:8080/"
        },
        "id": "WXRZyWT9RTMw",
        "outputId": "325ecfe7-d7e7-4c0c-8f12-1f4fb464ccaa"
      },
      "outputs": [
        {
          "data": {
            "text/plain": [
              "array([[ 62,  89, 146, 222],\n",
              "       [ 48,  79, 153, 225],\n",
              "       [ 36,  90, 166, 256],\n",
              "       [ 33,  88, 166, 203],\n",
              "       [ 44, 142, 172, 240],\n",
              "       [ 48, 110, 188, 205]])"
            ]
          },
          "execution_count": 89,
          "metadata": {},
          "output_type": "execute_result"
        }
      ],
      "source": [
        "np.cumsum(b,axis=1)"
      ]
    },
    {
      "cell_type": "code",
      "execution_count": 90,
      "metadata": {
        "colab": {
          "base_uri": "https://localhost:8080/"
        },
        "id": "5WGkAjfjRNOe",
        "outputId": "9fe4827c-86b1-4c15-d26f-8a2232e6cffd"
      },
      "outputs": [
        {
          "data": {
            "text/plain": [
              "array([  62,   89,  146,  222,  270,  301,  375,  447,  483,  537,  613,\n",
              "        703,  736,  791,  869,  906,  950, 1048, 1078, 1146, 1194, 1256,\n",
              "       1334, 1351])"
            ]
          },
          "execution_count": 90,
          "metadata": {},
          "output_type": "execute_result"
        }
      ],
      "source": [
        "np.cumsum(b)"
      ]
    },
    {
      "cell_type": "code",
      "execution_count": 91,
      "metadata": {
        "colab": {
          "base_uri": "https://localhost:8080/"
        },
        "id": "RtGuPGr9WlVV",
        "outputId": "6adf6a7d-815f-4b94-d5fc-f85366c5d227"
      },
      "outputs": [
        {
          "data": {
            "text/plain": [
              "array([         36,         540,        5940,      493020,    22185900,\n",
              "        1397711700,  1267940460, -1849475592,  1296630288,  1542761792,\n",
              "        1038121984, -1852231680,   883593216,   469393408, -1948000256])"
            ]
          },
          "execution_count": 91,
          "metadata": {},
          "output_type": "execute_result"
        }
      ],
      "source": [
        "# np.cumprod\n",
        "np.cumprod(a)"
      ]
    },
    {
      "cell_type": "code",
      "execution_count": 92,
      "metadata": {
        "colab": {
          "base_uri": "https://localhost:8080/"
        },
        "id": "8kdxzQXiRMOS",
        "outputId": "c052981c-77a4-48f2-f3a3-fdf8a2c214a2"
      },
      "outputs": [
        {
          "data": {
            "text/plain": [
              "array([36, 15, 11, 83, 45, 63, 47, 90, 62, 84, 48, 52, 83, 54,  5])"
            ]
          },
          "execution_count": 92,
          "metadata": {},
          "output_type": "execute_result"
        }
      ],
      "source": [
        "a"
      ]
    },
    {
      "cell_type": "markdown",
      "metadata": {
        "id": "SIuRwLMjcnOl"
      },
      "source": [
        "### np.percentile\n",
        "\n",
        "numpy.percentile()function used to compute the nth percentile of the given data (array elements) along the specified axis. \n",
        "\n",
        "https://numpy.org/doc/stable/reference/generated/numpy.percentile.html"
      ]
    },
    {
      "cell_type": "code",
      "execution_count": 93,
      "metadata": {
        "colab": {
          "base_uri": "https://localhost:8080/"
        },
        "id": "_o8iH4Evcl8C",
        "outputId": "cefa31c8-c4b3-4fb0-aa47-c786c65fcd8a"
      },
      "outputs": [
        {
          "data": {
            "text/plain": [
              "array([36, 15, 11, 83, 45, 63, 47, 90, 62, 84, 48, 52, 83, 54,  5])"
            ]
          },
          "execution_count": 93,
          "metadata": {},
          "output_type": "execute_result"
        }
      ],
      "source": [
        "a"
      ]
    },
    {
      "cell_type": "code",
      "execution_count": 94,
      "metadata": {
        "colab": {
          "base_uri": "https://localhost:8080/"
        },
        "id": "gBH8ZvtrSND9",
        "outputId": "baee8f9f-e1bd-40dd-ffd6-c50b5660c975"
      },
      "outputs": [
        {
          "data": {
            "text/plain": [
              "52.0"
            ]
          },
          "execution_count": 94,
          "metadata": {},
          "output_type": "execute_result"
        }
      ],
      "source": [
        "np.percentile(a,50)"
      ]
    },
    {
      "cell_type": "code",
      "execution_count": 95,
      "metadata": {
        "colab": {
          "base_uri": "https://localhost:8080/"
        },
        "id": "KLIhMJSTScTy",
        "outputId": "62d539c9-0d48-4791-d269-752469424313"
      },
      "outputs": [
        {
          "data": {
            "text/plain": [
              "52.0"
            ]
          },
          "execution_count": 95,
          "metadata": {},
          "output_type": "execute_result"
        }
      ],
      "source": [
        "np.median(a)"
      ]
    },
    {
      "cell_type": "markdown",
      "metadata": {
        "id": "2C6nGaJHev5N"
      },
      "source": [
        "### np.histogram\n",
        "\n",
        "Numpy has a built-in numpy.histogram() function which represents the frequency of data distribution in the graphical form.\n",
        "\n",
        "https://numpy.org/doc/stable/reference/generated/numpy.histogram.html"
      ]
    },
    {
      "cell_type": "code",
      "execution_count": 96,
      "metadata": {
        "colab": {
          "base_uri": "https://localhost:8080/"
        },
        "id": "S2pFLU5ZWuTx",
        "outputId": "f461cfbe-2556-49c4-a2f2-d9cc8dcccd29"
      },
      "outputs": [
        {
          "data": {
            "text/plain": [
              "array([36, 15, 11, 83, 45, 63, 47, 90, 62, 84, 48, 52, 83, 54,  5])"
            ]
          },
          "execution_count": 96,
          "metadata": {},
          "output_type": "execute_result"
        }
      ],
      "source": [
        "# code\n",
        "a"
      ]
    },
    {
      "cell_type": "code",
      "execution_count": 97,
      "metadata": {
        "colab": {
          "base_uri": "https://localhost:8080/"
        },
        "id": "wZlQuOFpSbE3",
        "outputId": "03276c6f-0c91-4872-c74c-902092e7925d"
      },
      "outputs": [
        {
          "data": {
            "text/plain": [
              "(array([7, 8], dtype=int64), array([  0,  50, 100]))"
            ]
          },
          "execution_count": 97,
          "metadata": {},
          "output_type": "execute_result"
        }
      ],
      "source": [
        "np.histogram(a,bins=[0,50,100])"
      ]
    },
    {
      "cell_type": "markdown",
      "metadata": {
        "id": "JxgMS0Zef8oQ"
      },
      "source": [
        "### np.corrcoef\n",
        "\n",
        "Return Pearson product-moment correlation coefficients.\n",
        "\n",
        "https://numpy.org/doc/stable/reference/generated/numpy.corrcoef.html"
      ]
    },
    {
      "cell_type": "code",
      "execution_count": 98,
      "metadata": {
        "colab": {
          "base_uri": "https://localhost:8080/"
        },
        "id": "ZAMnvEm5WyUp",
        "outputId": "0445bb77-29e1-49e2-f07e-656e33f9b70d"
      },
      "outputs": [
        {
          "data": {
            "text/plain": [
              "array([[1.        , 0.25344572],\n",
              "       [0.25344572, 1.        ]])"
            ]
          },
          "execution_count": 98,
          "metadata": {},
          "output_type": "execute_result"
        }
      ],
      "source": [
        "salary = np.array([20000,40000,25000,35000,60000])\n",
        "experience = np.array([1,3,2,4,2])\n",
        "\n",
        "np.corrcoef(salary,experience)"
      ]
    },
    {
      "cell_type": "markdown",
      "metadata": {
        "id": "Ot4h1PdGh-vI"
      },
      "source": [
        "### np.isin\n",
        "\n",
        "With the help of numpy.isin() method, we can see that one array having values are checked in a different numpy array having different elements with different sizes.\n",
        "\n",
        "https://numpy.org/doc/stable/reference/generated/numpy.isin.html"
      ]
    },
    {
      "cell_type": "code",
      "execution_count": 99,
      "metadata": {
        "colab": {
          "base_uri": "https://localhost:8080/"
        },
        "id": "oyyVo0qnW2Cz",
        "outputId": "37417575-e23f-425e-d617-76cfb848da40"
      },
      "outputs": [
        {
          "data": {
            "text/plain": [
              "array([36, 15, 11, 83, 45, 63, 47, 90, 62, 84, 48, 52, 83, 54,  5])"
            ]
          },
          "execution_count": 99,
          "metadata": {},
          "output_type": "execute_result"
        }
      ],
      "source": [
        "# code\n",
        "a\n"
      ]
    },
    {
      "cell_type": "code",
      "execution_count": 100,
      "metadata": {
        "colab": {
          "base_uri": "https://localhost:8080/"
        },
        "id": "lLA0c9z2VE3O",
        "outputId": "9e53c0d3-a425-4197-dbbd-53831e391a12"
      },
      "outputs": [
        {
          "data": {
            "text/plain": [
              "array([90])"
            ]
          },
          "execution_count": 100,
          "metadata": {},
          "output_type": "execute_result"
        }
      ],
      "source": [
        "items = [10,20,30,40,50,60,70,80,90,100]\n",
        "\n",
        "a[np.isin(a,items)]"
      ]
    },
    {
      "cell_type": "markdown",
      "metadata": {
        "id": "8VKXXRjmicT-"
      },
      "source": [
        "### np.flip\n",
        "\n",
        "The numpy.flip() function reverses the order of array elements along the specified axis, preserving the shape of the array.\n",
        "\n",
        "https://numpy.org/doc/stable/reference/generated/numpy.flip.html"
      ]
    },
    {
      "cell_type": "code",
      "execution_count": 101,
      "metadata": {
        "colab": {
          "base_uri": "https://localhost:8080/"
        },
        "id": "lMreAl7yEvBa",
        "outputId": "64044da1-ce34-403c-f97d-7b77a7e9ecea"
      },
      "outputs": [
        {
          "data": {
            "text/plain": [
              "array([36, 15, 11, 83, 45, 63, 47, 90, 62, 84, 48, 52, 83, 54,  5])"
            ]
          },
          "execution_count": 101,
          "metadata": {},
          "output_type": "execute_result"
        }
      ],
      "source": [
        "# code\n",
        "a"
      ]
    },
    {
      "cell_type": "code",
      "execution_count": 102,
      "metadata": {
        "colab": {
          "base_uri": "https://localhost:8080/"
        },
        "id": "82l_pzDbVfNp",
        "outputId": "ab7282bc-5857-4c51-9f78-feda9252233e"
      },
      "outputs": [
        {
          "data": {
            "text/plain": [
              "array([ 5, 54, 83, 52, 48, 84, 62, 90, 47, 63, 45, 83, 11, 15, 36])"
            ]
          },
          "execution_count": 102,
          "metadata": {},
          "output_type": "execute_result"
        }
      ],
      "source": [
        "np.flip(a)"
      ]
    },
    {
      "cell_type": "code",
      "execution_count": 103,
      "metadata": {
        "colab": {
          "base_uri": "https://localhost:8080/"
        },
        "id": "nWp3PQ87Vkin",
        "outputId": "1f8ef30d-846d-47f2-bdd8-0dcefc7312e2"
      },
      "outputs": [
        {
          "data": {
            "text/plain": [
              "array([[62, 27, 57, 76],\n",
              "       [48, 31, 74, 72],\n",
              "       [36, 54, 76, 90],\n",
              "       [33, 55, 78, 37],\n",
              "       [44, 98, 30, 68],\n",
              "       [48, 62, 78, 17]])"
            ]
          },
          "execution_count": 103,
          "metadata": {},
          "output_type": "execute_result"
        }
      ],
      "source": [
        "b"
      ]
    },
    {
      "cell_type": "code",
      "execution_count": 104,
      "metadata": {
        "colab": {
          "base_uri": "https://localhost:8080/"
        },
        "id": "UOU3WOBwVm59",
        "outputId": "a67d4005-b585-4977-9916-3b3a177a5410"
      },
      "outputs": [
        {
          "data": {
            "text/plain": [
              "array([[76, 57, 27, 62],\n",
              "       [72, 74, 31, 48],\n",
              "       [90, 76, 54, 36],\n",
              "       [37, 78, 55, 33],\n",
              "       [68, 30, 98, 44],\n",
              "       [17, 78, 62, 48]])"
            ]
          },
          "execution_count": 104,
          "metadata": {},
          "output_type": "execute_result"
        }
      ],
      "source": [
        "np.flip(b,axis=1)"
      ]
    },
    {
      "cell_type": "markdown",
      "metadata": {
        "id": "n7jTKF2QjIz4"
      },
      "source": [
        "### np.put\n",
        "\n",
        "The numpy.put() function replaces specific elements of an array with given values of p_array. Array indexed works on flattened array. \n",
        "\n",
        "https://numpy.org/doc/stable/reference/generated/numpy.put.html"
      ]
    },
    {
      "cell_type": "code",
      "execution_count": 105,
      "metadata": {
        "colab": {
          "base_uri": "https://localhost:8080/"
        },
        "id": "xZrJHzr0E0zN",
        "outputId": "d9ed43a6-623f-4b5b-cfcd-03dc841375b2"
      },
      "outputs": [
        {
          "data": {
            "text/plain": [
              "array([36, 15, 11, 83, 45, 63, 47, 90, 62, 84, 48, 52, 83, 54,  5])"
            ]
          },
          "execution_count": 105,
          "metadata": {},
          "output_type": "execute_result"
        }
      ],
      "source": [
        "# code\n",
        "a"
      ]
    },
    {
      "cell_type": "code",
      "execution_count": 106,
      "metadata": {
        "id": "dtl97d4SWHUG"
      },
      "outputs": [],
      "source": [
        "np.put(a,[0,1],[110,530])"
      ]
    },
    {
      "cell_type": "markdown",
      "metadata": {
        "id": "lYkpJg3kpSWB"
      },
      "source": [
        "### np.delete\n",
        "\n",
        "The numpy.delete() function returns a new array with the deletion of sub-arrays along with the mentioned axis. \n",
        "\n",
        "https://numpy.org/doc/stable/reference/generated/numpy.delete.html"
      ]
    },
    {
      "cell_type": "code",
      "execution_count": 107,
      "metadata": {
        "colab": {
          "base_uri": "https://localhost:8080/"
        },
        "id": "VmGLdiy5pQXc",
        "outputId": "728b29c4-517a-440f-da4a-8d1aaecbf6e7"
      },
      "outputs": [
        {
          "data": {
            "text/plain": [
              "array([110, 530,  11,  83,  45,  63,  47,  90,  62,  84,  48,  52,  83,\n",
              "        54,   5])"
            ]
          },
          "execution_count": 107,
          "metadata": {},
          "output_type": "execute_result"
        }
      ],
      "source": [
        "# code\n",
        "a"
      ]
    },
    {
      "cell_type": "code",
      "execution_count": 108,
      "metadata": {
        "colab": {
          "base_uri": "https://localhost:8080/"
        },
        "id": "A5Dp974mWeWd",
        "outputId": "b3ef3851-7b46-4a55-8e1b-3a1b77a70cd1"
      },
      "outputs": [
        {
          "data": {
            "text/plain": [
              "array([530,  83,  63,  47,  90,  62,  84,  48,  52,  83,  54,   5])"
            ]
          },
          "execution_count": 108,
          "metadata": {},
          "output_type": "execute_result"
        }
      ],
      "source": [
        "np.delete(a,[0,2,4])"
      ]
    },
    {
      "cell_type": "markdown",
      "metadata": {
        "id": "Ei94MbFbrjvx"
      },
      "source": [
        "### Set functions\n",
        "\n",
        "- np.union1d\n",
        "- np.intersect1d\n",
        "- np.setdiff1d\n",
        "- np.setxor1d\n",
        "- np.in1d"
      ]
    },
    {
      "cell_type": "code",
      "execution_count": 109,
      "metadata": {
        "colab": {
          "base_uri": "https://localhost:8080/"
        },
        "id": "hHSwzU1irY0f",
        "outputId": "b342e657-f1e1-4421-9447-e261ec0efc36"
      },
      "outputs": [
        {
          "data": {
            "text/plain": [
              "array([1, 2, 3, 4, 5, 6, 7])"
            ]
          },
          "execution_count": 109,
          "metadata": {},
          "output_type": "execute_result"
        }
      ],
      "source": [
        "m = np.array([1,2,3,4,5])\n",
        "n = np.array([3,4,5,6,7])\n",
        "\n",
        "np.union1d(m,n)"
      ]
    },
    {
      "cell_type": "code",
      "execution_count": 110,
      "metadata": {
        "colab": {
          "base_uri": "https://localhost:8080/"
        },
        "id": "XSIuF3zWXZXP",
        "outputId": "3cb32023-afe2-4b1a-ba36-a7336083e7f6"
      },
      "outputs": [
        {
          "data": {
            "text/plain": [
              "array([3, 4, 5])"
            ]
          },
          "execution_count": 110,
          "metadata": {},
          "output_type": "execute_result"
        }
      ],
      "source": [
        "np.intersect1d(m,n)"
      ]
    },
    {
      "cell_type": "code",
      "execution_count": 111,
      "metadata": {
        "colab": {
          "base_uri": "https://localhost:8080/"
        },
        "id": "HhGH8cskXgR5",
        "outputId": "9fe9818f-5d74-4590-e009-707b73f58a41"
      },
      "outputs": [
        {
          "data": {
            "text/plain": [
              "array([6, 7])"
            ]
          },
          "execution_count": 111,
          "metadata": {},
          "output_type": "execute_result"
        }
      ],
      "source": [
        "np.setdiff1d(n,m)"
      ]
    },
    {
      "cell_type": "code",
      "execution_count": 112,
      "metadata": {
        "colab": {
          "base_uri": "https://localhost:8080/"
        },
        "id": "KaZbcTk0XubR",
        "outputId": "7d086410-d76c-4818-e35f-edf0792d54eb"
      },
      "outputs": [
        {
          "data": {
            "text/plain": [
              "array([1, 2, 6, 7])"
            ]
          },
          "execution_count": 112,
          "metadata": {},
          "output_type": "execute_result"
        }
      ],
      "source": [
        "np.setxor1d(m,n)"
      ]
    },
    {
      "cell_type": "code",
      "execution_count": 113,
      "metadata": {
        "colab": {
          "base_uri": "https://localhost:8080/"
        },
        "id": "SqV9rpQ_XzVg",
        "outputId": "ad95c2eb-ed10-46ec-9c99-2a5fa4b3082a"
      },
      "outputs": [
        {
          "data": {
            "text/plain": [
              "array([1])"
            ]
          },
          "execution_count": 113,
          "metadata": {},
          "output_type": "execute_result"
        }
      ],
      "source": [
        "m[np.in1d(m,1)]"
      ]
    },
    {
      "cell_type": "markdown",
      "metadata": {
        "id": "uLxS7H2pr-rh"
      },
      "source": [
        "### np.clip\n",
        "\n",
        "numpy.clip() function is used to Clip (limit) the values in an array.\n",
        "\n",
        "https://numpy.org/doc/stable/reference/generated/numpy.clip.html"
      ]
    },
    {
      "cell_type": "code",
      "execution_count": 114,
      "metadata": {
        "colab": {
          "base_uri": "https://localhost:8080/"
        },
        "id": "Q3S9gjNzsL73",
        "outputId": "536e7835-500c-4493-9f69-0273a967f8b4"
      },
      "outputs": [
        {
          "data": {
            "text/plain": [
              "array([110, 530,  11,  83,  45,  63,  47,  90,  62,  84,  48,  52,  83,\n",
              "        54,   5])"
            ]
          },
          "execution_count": 114,
          "metadata": {},
          "output_type": "execute_result"
        }
      ],
      "source": [
        "# code\n",
        "a"
      ]
    },
    {
      "cell_type": "code",
      "execution_count": 115,
      "metadata": {
        "colab": {
          "base_uri": "https://localhost:8080/"
        },
        "id": "x08JKAVHYOxF",
        "outputId": "a8ba892e-f2ea-44a3-b48e-9a3996ff81f9"
      },
      "outputs": [
        {
          "data": {
            "text/plain": [
              "array([75, 75, 25, 75, 45, 63, 47, 75, 62, 75, 48, 52, 75, 54, 25])"
            ]
          },
          "execution_count": 115,
          "metadata": {},
          "output_type": "execute_result"
        }
      ],
      "source": [
        "np.clip(a,a_min=25,a_max=75)"
      ]
    },
    {
      "cell_type": "code",
      "execution_count": 116,
      "metadata": {
        "id": "INpvUpf9InGT"
      },
      "outputs": [],
      "source": [
        "# 17. np.swapaxes"
      ]
    },
    {
      "cell_type": "code",
      "execution_count": 117,
      "metadata": {
        "id": "AEFIFE1vJXDA"
      },
      "outputs": [],
      "source": [
        "# 18. np.uniform"
      ]
    },
    {
      "cell_type": "code",
      "execution_count": 118,
      "metadata": {
        "id": "y7M0rggRKBIu"
      },
      "outputs": [],
      "source": [
        "# 19. np.count_nonzero"
      ]
    },
    {
      "cell_type": "code",
      "execution_count": 119,
      "metadata": {
        "id": "Qy0-pdlOK9tC"
      },
      "outputs": [],
      "source": [
        "# 21. np.tile\n",
        "# https://www.kaggle.com/code/abhayparashar31/best-numpy-functions-for-data-science-50?scriptVersionId=98816580"
      ]
    },
    {
      "cell_type": "code",
      "execution_count": 120,
      "metadata": {
        "id": "5DAEz6cbIdga"
      },
      "outputs": [],
      "source": [
        "# 22. np.repeat\n",
        "# https://towardsdatascience.com/10-numpy-functions-you-should-know-1dc4863764c5"
      ]
    },
    {
      "cell_type": "code",
      "execution_count": 121,
      "metadata": {
        "id": "DdLxDfsMNfz8"
      },
      "outputs": [],
      "source": [
        "\n",
        "# 25. np.allclose and equals"
      ]
    },
    {
      "attachments": {},
      "cell_type": "markdown",
      "metadata": {},
      "source": [
        "# End"
      ]
    }
  ],
  "metadata": {
    "colab": {
      "provenance": []
    },
    "kernelspec": {
      "display_name": "Python 3",
      "language": "python",
      "name": "python3"
    },
    "language_info": {
      "codemirror_mode": {
        "name": "ipython",
        "version": 3
      },
      "file_extension": ".py",
      "mimetype": "text/x-python",
      "name": "python",
      "nbconvert_exporter": "python",
      "pygments_lexer": "ipython3",
      "version": "3.11.1"
    },
    "vscode": {
      "interpreter": {
        "hash": "52634da84371cba311ea128a5ea7cdc41ff074b781779e754b270ff9f8153cee"
      }
    }
  },
  "nbformat": 4,
  "nbformat_minor": 0
}
